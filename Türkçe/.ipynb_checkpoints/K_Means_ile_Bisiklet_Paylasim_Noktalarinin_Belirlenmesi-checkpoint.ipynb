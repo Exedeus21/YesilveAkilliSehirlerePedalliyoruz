{
 "cells": [
  {
   "cell_type": "markdown",
   "metadata": {
    "id": "hW2NhLrX-RTr"
   },
   "source": [
    "# KODLUYORUZ K136 İSTANBUL VERİ BİLİMİ BOOTCAMP"
   ]
  },
  {
   "cell_type": "markdown",
   "metadata": {
    "id": "t-GkIpmCbQK_"
   },
   "source": [
    "## GRUP 6 - KADIKÖY BÖLGESİ İÇİN UYGUN İSBİKE NOKTALARININ BELİRLENMESİ"
   ]
  },
  {
   "cell_type": "markdown",
   "metadata": {
    "id": "KdbpJmzLbQWx"
   },
   "source": [
    "### Kütüphanelerin Eklenmesi ve Class'ların Tanımlanması"
   ]
  },
  {
   "cell_type": "markdown",
   "metadata": {
    "id": "HknjecXfaeZr",
    "tags": []
   },
   "source": [
    "#### Kütüphanelerin Eklenmesi"
   ]
  },
  {
   "cell_type": "code",
   "execution_count": 1,
   "metadata": {
    "id": "s2MK1vJQe70g"
   },
   "outputs": [],
   "source": [
    "# Colab'i Drive'a bağlama\n",
    "#from google.colab import drive\n",
    "#drive.mount('/content/drive')"
   ]
  },
  {
   "cell_type": "code",
   "execution_count": 2,
   "metadata": {
    "id": "Gpdx4b1PrH6v"
   },
   "outputs": [],
   "source": [
    "#!pip install geopandas        # Colab için\n",
    "#!pip install shapely          # Colab için\n",
    "import geopandas as gpd\n",
    "from geopandas import GeoDataFrame\n",
    "import matplotlib.pyplot as plt\n",
    "import numpy as np\n",
    "import pandas as pd\n",
    "from sklearn.cluster import KMeans\n",
    "import folium\n",
    "from shapely.geometry import Point"
   ]
  },
  {
   "cell_type": "markdown",
   "metadata": {
    "id": "1iPNQneEHaEv"
   },
   "source": [
    "#### Kadıköy Geojson Verisinin Alınması ve Temizlenmesi"
   ]
  },
  {
   "cell_type": "code",
   "execution_count": 3,
   "metadata": {
    "id": "cezx9UjSHaEw"
   },
   "outputs": [],
   "source": [
    "kadikoy = gpd.read_file(r\"..\\Data\\KadikoyMap.geojson\")        # Lokal için\n",
    "#kadikoy = gpd.read_file(\"/content/drive/MyDrive/Bootcamp-Grup6/KadikoyMap.geojson\")                 # Colab için\n",
    "# Gereksiz bilgilerin silinmesi. Birden fazla coğrafi veri ile ilgili satır içerdiğinden ilk 21 tanesi yeterlidir. \n",
    "kadikoy = kadikoy.iloc[:21]"
   ]
  },
  {
   "cell_type": "markdown",
   "metadata": {
    "id": "HGgokt0ofZbA"
   },
   "source": [
    "#### DrawMap Fonksiyonu (Base Map üzerine geojson noktalarının çizdirilmesi)"
   ]
  },
  {
   "cell_type": "code",
   "execution_count": 1,
   "metadata": {
    "id": "BMqL1UcRqi09"
   },
   "outputs": [
    {
     "ename": "NameError",
     "evalue": "name 'kadikoy' is not defined",
     "output_type": "error",
     "traceback": [
      "\u001b[1;31m---------------------------------------------------------------------------\u001b[0m",
      "\u001b[1;31mNameError\u001b[0m                                 Traceback (most recent call last)",
      "Input \u001b[1;32mIn [1]\u001b[0m, in \u001b[0;36m<cell line: 1>\u001b[1;34m()\u001b[0m\n\u001b[1;32m----> 1\u001b[0m \u001b[38;5;28;01mdef\u001b[39;00m \u001b[38;5;21mDrawMap\u001b[39m(act, title, district\u001b[38;5;241m=\u001b[39m\u001b[43mkadikoy\u001b[49m):\n\u001b[0;32m      2\u001b[0m     \u001b[38;5;124;03m\"\"\" \u001b[39;00m\n\u001b[0;32m      3\u001b[0m \u001b[38;5;124;03m    Parametre olarak act, title ve district alır. \u001b[39;00m\n\u001b[0;32m      4\u001b[0m \u001b[38;5;124;03m    act = geojson, title = çizilen haritanın başlığı, district (default = kadikoy) = çizdirilecek olan bölge\u001b[39;00m\n\u001b[0;32m      5\u001b[0m \u001b[38;5;124;03m    Çıktı olarak ilgili Base Map üzerine ilgili geojson noktalarını çizdirir.\u001b[39;00m\n\u001b[0;32m      6\u001b[0m \u001b[38;5;124;03m    \"\"\"\u001b[39;00m\n\u001b[0;32m      7\u001b[0m     fig, ax \u001b[38;5;241m=\u001b[39m plt\u001b[38;5;241m.\u001b[39msubplots(figsize\u001b[38;5;241m=\u001b[39m(\u001b[38;5;241m15\u001b[39m, \u001b[38;5;241m15\u001b[39m))\n",
      "\u001b[1;31mNameError\u001b[0m: name 'kadikoy' is not defined"
     ]
    }
   ],
   "source": [
    "def DrawMap(act, title, district=kadikoy):\n",
    "    \"\"\" \n",
    "    Parametre olarak act, title ve district alır. \n",
    "    act = geojson, title = çizilen haritanın başlığı, district (default = kadikoy) = çizdirilecek olan bölge\n",
    "    Çıktı olarak ilgili Base Map üzerine ilgili geojson noktalarını çizdirir.\n",
    "    \"\"\"\n",
    "    fig, ax = plt.subplots(figsize=(15, 15))\n",
    "    district.plot(ax=ax)\n",
    "    act.plot(ax=ax, color=\"red\")\n",
    "    ax.set_title(title, fontdict={'fontsize': 30})\n",
    "    ax.set_ylabel('Latitude', fontdict={'fontsize': 20})\n",
    "    ax.set_xlabel('Longitude', fontdict={'fontsize': 20})"
   ]
  },
  {
   "cell_type": "code",
   "execution_count": null,
   "metadata": {},
   "outputs": [],
   "source": []
  }
 ],
 "metadata": {
  "colab": {
   "collapsed_sections": [],
   "name": "K-Means-ile-Bisiklet-Paylasim-Noktalarinin-Belirlenmesi.ipynb",
   "private_outputs": true,
   "provenance": [],
   "toc_visible": true
  },
  "kernelspec": {
   "display_name": "Python 3 (ipykernel)",
   "language": "python",
   "name": "python3"
  },
  "language_info": {
   "codemirror_mode": {
    "name": "ipython",
    "version": 3
   },
   "file_extension": ".py",
   "mimetype": "text/x-python",
   "name": "python",
   "nbconvert_exporter": "python",
   "pygments_lexer": "ipython3",
   "version": "3.9.12"
  }
 },
 "nbformat": 4,
 "nbformat_minor": 4
}
