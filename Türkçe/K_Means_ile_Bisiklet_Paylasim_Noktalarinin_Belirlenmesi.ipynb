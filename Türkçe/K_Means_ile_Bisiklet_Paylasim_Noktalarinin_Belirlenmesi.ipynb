{
 "cells": [
  {
   "cell_type": "markdown",
   "metadata": {
    "id": "hW2NhLrX-RTr"
   },
   "source": [
    "# KODLUYORUZ K136 İSTANBUL VERİ BİLİMİ BOOTCAMP"
   ]
  },
  {
   "cell_type": "markdown",
   "metadata": {
    "id": "t-GkIpmCbQK_"
   },
   "source": [
    "## GRUP 6 - KADIKÖY BÖLGESİ İÇİN UYGUN İSBİKE NOKTALARININ BELİRLENMESİ"
   ]
  },
  {
   "cell_type": "markdown",
   "metadata": {
    "id": "KdbpJmzLbQWx"
   },
   "source": [
    "### Kütüphanelerin Eklenmesi ve Class'ların Tanımlanması"
   ]
  },
  {
   "cell_type": "markdown",
   "metadata": {
    "id": "HknjecXfaeZr",
    "tags": []
   },
   "source": [
    "#### Kütüphanelerin Eklenmesi"
   ]
  },
  {
   "cell_type": "code",
   "execution_count": 1,
   "metadata": {
    "id": "s2MK1vJQe70g"
   },
   "outputs": [],
   "source": [
    "# Colab'i Drive'a bağlama\n",
    "#from google.colab import drive\n",
    "#drive.mount('/content/drive')"
   ]
  },
  {
   "cell_type": "code",
   "execution_count": 2,
   "metadata": {
    "id": "Gpdx4b1PrH6v"
   },
   "outputs": [],
   "source": [
    "#!pip install geopandas        # Colab için\n",
    "#!pip install shapely          # Colab için\n",
    "import geopandas as gpd\n",
    "from geopandas import GeoDataFrame\n",
    "import matplotlib.pyplot as plt\n",
    "import numpy as np\n",
    "import pandas as pd\n",
    "from sklearn.cluster import KMeans\n",
    "import folium\n",
    "from shapely.geometry import Point"
   ]
  },
  {
   "cell_type": "markdown",
   "metadata": {
    "id": "1iPNQneEHaEv"
   },
   "source": [
    "#### Kadıköy Geojson Verisinin Alınması ve Temizlenmesi"
   ]
  },
  {
   "cell_type": "code",
   "execution_count": 3,
   "metadata": {
    "id": "cezx9UjSHaEw"
   },
   "outputs": [],
   "source": [
    "kadikoy = gpd.read_file(r\"..\\Data\\KadikoyMap.geojson\")        # Lokal için\n",
    "#kadikoy = gpd.read_file(\"/content/drive/MyDrive/Bootcamp-Grup6/KadikoyMap.geojson\")                 # Colab için\n",
    "# Gereksiz bilgilerin silinmesi. Birden fazla coğrafi veri ile ilgili satır içerdiğinden ilk 21 tanesi yeterlidir. \n",
    "kadikoy = kadikoy.iloc[:21]"
   ]
  },
  {
   "cell_type": "markdown",
   "metadata": {
    "id": "HGgokt0ofZbA"
   },
   "source": [
    "#### DrawMap Fonksiyonu (Base Map üzerine geojson noktalarının çizdirilmesi)"
   ]
  },
  {
   "cell_type": "code",
   "execution_count": 4,
   "metadata": {
    "id": "BMqL1UcRqi09"
   },
   "outputs": [],
   "source": [
    "def DrawMap(act, title, district=kadikoy):\n",
    "    \"\"\" \n",
    "    Parametre olarak act, title ve district alır. \n",
    "    act = geojson, title = çizilen haritanın başlığı, district (default = kadikoy) = çizdirilecek olan bölge\n",
    "    Çıktı olarak ilgili Base Map üzerine ilgili geojson noktalarını çizdirir.\n",
    "    \"\"\"\n",
    "    fig, ax = plt.subplots(figsize=(15, 15))\n",
    "    district.plot(ax=ax)\n",
    "    act.plot(ax=ax, color=\"red\")\n",
    "    ax.set_title(title, fontdict={'fontsize': 30})\n",
    "    ax.set_ylabel('Latitude', fontdict={'fontsize': 20})\n",
    "    ax.set_xlabel('Longitude', fontdict={'fontsize': 20})"
   ]
  }
 ],
 "metadata": {
  "colab": {
   "collapsed_sections": [],
   "name": "K-Means-ile-Bisiklet-Paylasim-Noktalarinin-Belirlenmesi.ipynb",
   "private_outputs": true,
   "provenance": [],
   "toc_visible": true
  },
  "kernelspec": {
   "display_name": "Python 3 (ipykernel)",
   "language": "python",
   "name": "python3"
  },
  "language_info": {
   "codemirror_mode": {
    "name": "ipython",
    "version": 3
   },
   "file_extension": ".py",
   "mimetype": "text/x-python",
   "name": "python",
   "nbconvert_exporter": "python",
   "pygments_lexer": "ipython3",
   "version": "3.10.1"
  }
 },
 "nbformat": 4,
 "nbformat_minor": 4
}
