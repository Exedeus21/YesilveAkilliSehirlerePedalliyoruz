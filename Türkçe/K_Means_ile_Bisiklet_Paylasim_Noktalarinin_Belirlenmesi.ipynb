{
 "cells": [
  {
   "cell_type": "markdown",
   "metadata": {
    "id": "hW2NhLrX-RTr"
   },
   "source": [
    "# KODLUYORUZ K136 İSTANBUL VERİ BİLİMİ BOOTCAMP"
   ]
  },
  {
   "cell_type": "markdown",
   "metadata": {
    "id": "t-GkIpmCbQK_"
   },
   "source": [
    "## GRUP 6 - KADIKÖY BÖLGESİ İÇİN UYGUN İSBİKE NOKTALARININ BELİRLENMESİ"
   ]
  },
  {
   "cell_type": "markdown",
   "metadata": {
    "id": "KdbpJmzLbQWx"
   },
   "source": [
    "### Kütüphanelerin Eklenmesi ve Class'ların Tanımlanması"
   ]
  },
  {
   "cell_type": "markdown",
   "metadata": {
    "id": "HknjecXfaeZr",
    "tags": []
   },
   "source": [
    "#### Kütüphanelerin Eklenmesi"
   ]
  },
  {
   "cell_type": "code",
   "execution_count": null,
   "metadata": {
    "id": "s2MK1vJQe70g"
   },
   "outputs": [],
   "source": [
    "# Colab'i Drive'a bağlama\n",
    "#from google.colab import drive\n",
    "#drive.mount('/content/drive')"
   ]
  },
  {
   "cell_type": "code",
   "execution_count": null,
   "metadata": {
    "id": "Gpdx4b1PrH6v"
   },
   "outputs": [],
   "source": [
    "#!pip install geopandas        # Colab için\n",
    "#!pip install shapely          # Colab için\n",
    "import geopandas as gpd\n",
    "from geopandas import GeoDataFrame\n",
    "import matplotlib.pyplot as plt\n",
    "import numpy as np\n",
    "import pandas as pd\n",
    "from sklearn.cluster import KMeans\n",
    "import folium\n",
    "from shapely.geometry import Point"
   ]
  },
  {
   "cell_type": "markdown",
   "metadata": {
    "id": "1iPNQneEHaEv"
   },
   "source": [
    "#### Kadıköy Geojson Verisinin Alınması ve Temizlenmesi"
   ]
  },
  {
   "cell_type": "code",
   "execution_count": null,
   "metadata": {
    "id": "cezx9UjSHaEw"
   },
   "outputs": [],
   "source": [
    "#kadikoy = gpd.read_file(r\"..\\grup6\\geojsons-of-turkey-master\\geojsons2\\KadikoyMap.geojson\")        # Lokal için\n",
    "kadikoy = gpd.read_file(\"/content/drive/MyDrive/Bootcamp-Grup6/KadikoyMap.geojson\")                 # Colab için\n",
    "# Gereksiz bilgilerin silinmesi. Birden fazla coğrafi veri ile ilgili satır içerdiğinden ilk 21 tanesi yeterlidir. \n",
    "kadikoy = kadikoy.iloc[:21]"
   ]
  },
  {
   "cell_type": "markdown",
   "metadata": {
    "id": "HGgokt0ofZbA"
   },
   "source": [
    "#### DrawMap Fonksiyonu (Base Map üzerine geojson noktalarının çizdirilmesi)"
   ]
  },
  {
   "cell_type": "code",
   "execution_count": null,
   "metadata": {
    "id": "BMqL1UcRqi09"
   },
   "outputs": [],
   "source": [
    "def DrawMap(act, title, district=kadikoy):\n",
    "    \"\"\" \n",
    "    Parametre olarak act, title ve district alır. \n",
    "    act = geojson, title = çizilen haritanın başlığı, district (default = kadikoy) = çizdirilecek olan bölge\n",
    "    Çıktı olarak ilgili Base Map üzerine ilgili geojson noktalarını çizdirir.\n",
    "    \"\"\"\n",
    "    fig, ax = plt.subplots(figsize=(15, 15))\n",
    "    district.plot(ax=ax)\n",
    "    act.plot(ax=ax, color=\"red\")\n",
    "    ax.set_title(title, fontdict={'fontsize': 30})\n",
    "    ax.set_ylabel('Latitude', fontdict={'fontsize': 20})\n",
    "    ax.set_xlabel('Longitude', fontdict={'fontsize': 20})"
   ]
  },
  {
   "cell_type": "markdown",
   "metadata": {
    "id": "O_TcZ0Vej9LD"
   },
   "source": [
    "#### CentAndLatLot Fonksiyonu (Modele sokmadan önce koordinatların düzenlenmesi)"
   ]
  },
  {
   "cell_type": "code",
   "execution_count": null,
   "metadata": {
    "id": "h8vy5CDcGfpN"
   },
   "outputs": [],
   "source": [
    "# K-means modeline sokmadan önce koordinatların çıkarılması\n",
    "def CentAndLatLot(dataframe):\n",
    "    \"\"\"\n",
    "    Parametre olarak df alır. \n",
    "    dataframe'i k-means modeline sokmandan önce koordinatları ayarlar. \n",
    "    dataframe'i return eder.\n",
    "    \"\"\"\n",
    "    for i in range(len(dataframe)):\n",
    "        dataframe.geometry[i] = dataframe.geometry[i].centroid\n",
    "\n",
    "    dataframe[\"lat\"] = \"none\"\n",
    "    dataframe[\"lon\"] = \"none\"\n",
    "\n",
    "    for i in range(len(dataframe)):\n",
    "        dataframe.lat[i] = dataframe.geometry[i].x\n",
    "        dataframe.lon[i] = dataframe.geometry[i].y\n",
    "\n",
    "    dataframe = dataframe.astype({\"lat\": float}, errors='raise')\n",
    "    dataframe = dataframe.astype({\"lon\": float}, errors='raise')\n",
    "\n",
    "    return dataframe"
   ]
  },
  {
   "cell_type": "markdown",
   "metadata": {
    "id": "mfCS0HeikMJ8"
   },
   "source": [
    "#### ClusterNum Fonksiyonu (Cluster sayısının belirlenmesi)"
   ]
  },
  {
   "cell_type": "code",
   "execution_count": null,
   "metadata": {
    "id": "PRmdLuGEDT5N"
   },
   "outputs": [],
   "source": [
    "# K-means için gerekli cluster sayısının belirlenmesi\n",
    "def ClusterNum(dataframe, weighted='weight'):\n",
    "    \"\"\"\n",
    "    Parametre olarak dataframe, weighted alır.\n",
    "    K-means modeli için gerekli olan cluster sayısını belirler.\n",
    "    Çıktı olarak Elbow metodu çizdirir.\n",
    "    \"\"\"\n",
    "    x = dataframe[[\"lon\", \"lat\"]]\n",
    "    wcss = []\n",
    "    for i in range(1, 10):\n",
    "        kmeans = KMeans(n_clusters=i, init='k-means++', max_iter=300, n_init=10, random_state=0)\n",
    "        kmeans.fit(x, sample_weight=dataframe[weighted])\n",
    "        wcss.append(kmeans.inertia_)\n",
    "    plt.plot(range(1, 10), wcss)\n",
    "    plt.title('Elbow Method')\n",
    "    plt.xlabel('Number of clusters')\n",
    "    plt.ylabel('WCSS')\n",
    "    plt.show()\n"
   ]
  },
  {
   "cell_type": "markdown",
   "metadata": {
    "id": "iK53UViw2wkC"
   },
   "source": [
    "#### ClusterModel Fonksiyonu (K-means modelini oluşturan ve merkezleri belirleyen fonksiyon)"
   ]
  },
  {
   "cell_type": "code",
   "execution_count": null,
   "metadata": {
    "id": "Ykr48ag0dVVR"
   },
   "outputs": [],
   "source": [
    "# K-means modelini oluşturan ve cluster'ların merkezlerini belirleyen fonksiyon\n",
    "def ClusterModel(noc, dataframe, weighted='weight'):\n",
    "    \"\"\"\n",
    "    Parametre olarak noc, dataframe, weighted alır. \n",
    "    noc = cluster sayısı (int), dataframe = dataframe, weighted (default = \"weight\") = ağırlık\n",
    "    Çıktı olarak dtf_X (noktaların lat, lon ve ait olduğu cluster) ve center (cluster noktalarının lat ve lon'u) döndürür.\n",
    "    \"\"\"\n",
    "    x = dataframe[[\"lat\", \"lon\"]]\n",
    "    model = KMeans(n_clusters=noc, init='k-means++', max_iter=300, n_init=10, random_state=0)\n",
    "\n",
    "    dtf_X = x.copy()\n",
    "    dtf_X[\"cluster\"] = model.fit_predict(x, sample_weight=dataframe[weighted])\n",
    "\n",
    "    center = model.cluster_centers_\n",
    "    return [dtf_X, center]"
   ]
  },
  {
   "cell_type": "markdown",
   "metadata": {
    "id": "yqC9yaTF3i2c"
   },
   "source": [
    "#### ClusterMap Fonksiyonu (Cluster'ların ve cluster merkezlerinin Base Map'te çizdirilmesi.)"
   ]
  },
  {
   "cell_type": "code",
   "execution_count": null,
   "metadata": {
    "id": "BKy-4lfeXytS"
   },
   "outputs": [],
   "source": [
    "# Model kurulumu sonrası cluster'ların ve cluster merkezlerinin haritada gösterilmesi\n",
    "def ClusterMap(model, center, district=kadikoy):\n",
    "    \"\"\"\n",
    "    Cluster'ların ve cluster merkezlerinin Base Map'te çizdirilmesi.\n",
    "    Parametre olarak model, center, district (default = kadikoy) alır. \n",
    "    Çıktı olarak Base Map üzerinde cluster'lar ve cluster merkezlerini çizdirir.\n",
    "    \"\"\"\n",
    "    fig, ax = plt.subplots(figsize=(15, 15))\n",
    "    district.plot(ax=ax, color=\"powderblue\")\n",
    "    model.plot.scatter(ax=ax, x='lat', y='lon', c=\"cluster\", s=50, cmap='Accent_r')\n",
    "    plt.scatter(center[:, 0], center[:, 1], c='red', s=200, alpha=0.5)\n"
   ]
  },
  {
   "cell_type": "markdown",
   "metadata": {
    "id": "R8itLZ_O4RP9",
    "tags": []
   },
   "source": [
    "#### DrawRealMap Fonksiyonu (Cluster'ların gerçek harita üzerinde gösterilmesi)\n",
    "\n",
    "\n"
   ]
  },
  {
   "cell_type": "code",
   "execution_count": null,
   "metadata": {
    "id": "fforkQtXOmjP"
   },
   "outputs": [],
   "source": [
    "# Cluster'ların Open Street Map üzerinde gösterilmesi \n",
    "def DrawRealMap(centers, color):\n",
    "    \"\"\"\n",
    "    Cluster'ların gerçek harita üzerinde gösterilmesi.\n",
    "    Parametre olarak centers, color alır. \n",
    "    Çıktı olarak gerçek harita üzerinde cluster'ları gösterir.\n",
    "    \"\"\"\n",
    "    map = folium.Map(location=[40.98664398, 29.08949883], zoom_start=12)\n",
    "    for c in centers:\n",
    "        folium.Marker(\n",
    "            location = [c[1], c[0]],\n",
    "            icon = folium.Icon(color=color),\n",
    "            popup = f'<b>Cluster Point</b><br>lat:{c[1]}, lon:{c[0]}',\n",
    "            tooltip = \"Click for more\"\n",
    "        ).add_to(map)\n",
    "    #display(map)\n",
    "    return map"
   ]
  },
  {
   "cell_type": "markdown",
   "metadata": {
    "id": "EhL56rJZHaE5"
   },
   "source": [
    "### Haritaların Oluşturulması"
   ]
  },
  {
   "cell_type": "markdown",
   "metadata": {
    "id": "QSjiDQoZaoWm"
   },
   "source": [
    "#### Kadıköy Mahalleleri Haritasının Oluşturulması"
   ]
  },
  {
   "cell_type": "code",
   "execution_count": null,
   "metadata": {
    "id": "bNALZpG0rHww"
   },
   "outputs": [],
   "source": [
    "fig, ax = plt.subplots(figsize=(15, 15))\n",
    "kadikoy.plot(ax=ax)\n",
    "ax.set_title('Kadıköy Mahalleleri Haritası', fontdict={'fontsize': 30})\n",
    "ax.set_ylabel('Latitude', fontdict={'fontsize': 20})\n",
    "ax.set_xlabel('Longitude', fontdict={'fontsize': 20})"
   ]
  },
  {
   "cell_type": "markdown",
   "metadata": {
    "id": "zTRhH0lG6_qO"
   },
   "source": [
    "#### Kadıköy Yoğunluk Haritası"
   ]
  },
  {
   "cell_type": "code",
   "execution_count": null,
   "metadata": {
    "id": "ipTBKny3HaE6"
   },
   "outputs": [],
   "source": [
    "# Kadıköy mahalle nüfusunun alınması\n",
    "#df = pd.read_excel(open(r\"..\\grup6\\geojsons-of-turkey-master\\geojsons2\\KadikoyNeighborhoodPopulations.xlsx\", 'rb'))       # Lokal için\n",
    "df = pd.read_excel(\"/content/drive/MyDrive/Bootcamp-Grup6/KadikoyNeighborhoodPopulations.xlsx\")                            # Colab için\n",
    "\n",
    "# kadikoy ile df birleştiriliyor\n",
    "df_kadikoy = pd.merge(kadikoy, df, how='inner', on='name')\n",
    "\n",
    "# Population'a göre ağırlıklı model oluşturmak için\n",
    "df_kadikoy_den = CentAndLatLot(df_kadikoy)"
   ]
  },
  {
   "cell_type": "code",
   "execution_count": null,
   "metadata": {
    "id": "bFEpxXokHaE6"
   },
   "outputs": [],
   "source": [
    "DrawMap(df_kadikoy_den, \"Kadıköy Mahalle Merkezleri\")"
   ]
  },
  {
   "cell_type": "code",
   "execution_count": null,
   "metadata": {
    "id": "skVV7mvPtIpT"
   },
   "outputs": [],
   "source": [
    "# Population density için Elbow\n",
    "ClusterNum(df_kadikoy_den, weighted=\"density\")"
   ]
  },
  {
   "cell_type": "code",
   "execution_count": null,
   "metadata": {
    "id": "CA1fUwfAtyru"
   },
   "outputs": [],
   "source": [
    "# Kadıköy density model\n",
    "density_model, density_center = ClusterModel(3, df_kadikoy_den, weighted=\"density\")"
   ]
  },
  {
   "cell_type": "code",
   "execution_count": null,
   "metadata": {
    "id": "pyDtQOPouXrg"
   },
   "outputs": [],
   "source": [
    "ClusterMap(density_model, density_center)"
   ]
  },
  {
   "cell_type": "code",
   "execution_count": null,
   "metadata": {
    "id": "UbMJj_rVuuKj"
   },
   "outputs": [],
   "source": [
    "# Kadıköy nüfusa göre model\n",
    "DrawRealMap(density_center, \"green\")"
   ]
  },
  {
   "cell_type": "markdown",
   "metadata": {
    "id": "smp4_TzPgJ5p"
   },
   "source": [
    "#### Kadıköy Toplu Taşıma İstasyonları Haritası"
   ]
  },
  {
   "cell_type": "code",
   "execution_count": null,
   "metadata": {
    "id": "rMnWgaWgrISn"
   },
   "outputs": [],
   "source": [
    "#bus = gpd.read_file('..\\grup6\\geojsons-of-turkey-master\\geojsons2\\BusStations.geojson')           # Lokal için\n",
    "#pt = gpd.read_file('..\\grup6\\geojsons-of-turkey-master\\geojsons2\\PublicTransport.geojson')        # Lokal için\n",
    "bus = gpd.read_file('/content/drive/MyDrive/Bootcamp-Grup6/BusStations.geojson')                   # Colab için\n",
    "pt = gpd.read_file('/content/drive/MyDrive/Bootcamp-Grup6/PublicTransport.geojson')                # Colab için\n",
    "\n",
    "\n",
    "for i in range(len(pt)):\n",
    "    pt.geometry[i] = bus.geometry[i].centroid\n",
    "\n",
    "public_trans = bus.append(pt, ignore_index=True)\n",
    "DrawMap(public_trans, \"Kadıköy Toplu Taşıma İstasyonları\")"
   ]
  },
  {
   "cell_type": "code",
   "execution_count": null,
   "metadata": {
    "id": "87R6wJZADT1-"
   },
   "outputs": [],
   "source": [
    "public_trans = CentAndLatLot(public_trans)\n",
    "public_trans['weight'] = 1"
   ]
  },
  {
   "cell_type": "code",
   "execution_count": null,
   "metadata": {
    "id": "B-0rsMW0DT7-"
   },
   "outputs": [],
   "source": [
    "# Public_trans için cluster sayısının belirlenmesi\n",
    "ClusterNum(public_trans)"
   ]
  },
  {
   "cell_type": "code",
   "execution_count": null,
   "metadata": {
    "id": "NE3b4qYaddxw"
   },
   "outputs": [],
   "source": [
    "# public_trans için oluşturulmuş model ve cluster merkezleri \n",
    "public_model, public_center = ClusterModel(3, public_trans)"
   ]
  },
  {
   "cell_type": "code",
   "execution_count": null,
   "metadata": {
    "id": "163cfhEkfFf1"
   },
   "outputs": [],
   "source": [
    "ClusterMap(public_model, public_center)"
   ]
  },
  {
   "cell_type": "code",
   "execution_count": null,
   "metadata": {
    "id": "eENE0Y-oOmmg"
   },
   "outputs": [],
   "source": [
    "# public_center'ın gerçek haritada çizdirilmesi\n",
    "DrawRealMap(public_center, \"red\")"
   ]
  },
  {
      "cell_type": "markdown",
      "metadata": {
        "id": "9own1RTy8PuY"
      },
      "source": [
        "#### Kadıköy Park Haritası"
      ]
    },
    {
      "cell_type": "code",
      "execution_count": null,
      "metadata": {
        "id": "pFAL5lQPvotV"
      },
      "outputs": [],
      "source": [
        "#park = gpd.read_file('..\\grup6\\geojsons-of-turkey-master\\geojsons2\\Park.geojson')      # Lokal için\n",
        "park = gpd.read_file('/content/drive/MyDrive/Bootcamp-Grup6/Park.geojson')              # Colab için\n",
        "park[\"AreaSize\"] = park.area"
      ]
    },
    {
      "cell_type": "code",
      "execution_count": null,
      "metadata": {
        "id": "0E6_Wca7xUoU"
      },
      "outputs": [],
      "source": [
        "# Kadıköy'deki parkların çizimi\n",
        "DrawMap(park, \"Kadıköy Bölgesindeki Parklar\")"
      ]
    },
